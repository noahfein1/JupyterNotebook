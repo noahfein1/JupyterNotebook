{
 "cells": [
  {
   "cell_type": "markdown",
   "id": "5d5839f6-6bca-4329-a731-c54e71816550",
   "metadata": {
    "tags": []
   },
   "source": [
    "# Data Science Tools and Ecosystem"
   ]
  },
  {
   "cell_type": "markdown",
   "id": "d216922c-d858-45f7-bd59-8067ff3eb2a0",
   "metadata": {},
   "source": [
    "# In this notebook, Data Science Tools and Ecosystem are summarized."
   ]
  },
  {
   "cell_type": "markdown",
   "id": "706757e0-7fa7-48ed-ba14-1b44eee65f69",
   "metadata": {},
   "source": [
    "# **Objectives:** \n",
    "- List popular languages for Data Science\n",
    "- List commonly used libraries used by Data Scientists\n",
    "- List commonly used Data Science tools"
   ]
  },
  {
   "cell_type": "markdown",
   "id": "457ff63b-9b3d-47d2-8937-f0c45deb9b9d",
   "metadata": {},
   "source": [
    "# Some of the popular languages Data Scientists use are: \n",
    "# 1. Python\n",
    "# 2. R\n",
    "# 3. SQL"
   ]
  },
  {
   "cell_type": "markdown",
   "id": "8ba7f067-de74-45ca-9446-f3a1175f5735",
   "metadata": {},
   "source": [
    "# Some of the commonly used libraries used by Data Scientists include:\n",
    "# 1. NumPy\n",
    "# 2. TensorFlow\n",
    "# 3. Pandas"
   ]
  },
  {
   "cell_type": "markdown",
   "id": "f855b3ce-7e89-4931-ba8b-890c413b2f14",
   "metadata": {},
   "source": [
    "| Data Science Tools |\n",
    "|---|\n",
    "| PyCharm |\n",
    "| Jupyter |\n",
    "| Visual Studio Code |"
   ]
  },
  {
   "cell_type": "markdown",
   "id": "7d232d23-2489-42c8-bf7c-0af564f7fbbd",
   "metadata": {},
   "source": [
    "### Below are a few examples of evaluating arithmetic expressions in Python."
   ]
  },
  {
   "cell_type": "code",
   "execution_count": 1,
   "id": "90f43533-3497-45ff-82d8-9ac7a27fed08",
   "metadata": {
    "tags": []
   },
   "outputs": [
    {
     "data": {
      "text/plain": [
       "17"
      ]
     },
     "execution_count": 1,
     "metadata": {},
     "output_type": "execute_result"
    }
   ],
   "source": [
    "# \"This is a simple arithmatic expression to multiply then add integers\"\n",
    "(3*4) + 5"
   ]
  },
  {
   "cell_type": "markdown",
   "id": "06bbaab5-29bd-4124-bde5-89d560ee11f4",
   "metadata": {},
   "source": [
    "# This will convert 200 minutes to hours by dividing by 60."
   ]
  },
  {
   "cell_type": "code",
   "execution_count": 2,
   "id": "b9344a39-6d3f-4020-b39e-08a3873ec149",
   "metadata": {
    "tags": []
   },
   "outputs": [
    {
     "data": {
      "text/plain": [
       "3.3333333333333335"
      ]
     },
     "execution_count": 2,
     "metadata": {},
     "output_type": "execute_result"
    }
   ],
   "source": [
    "200/60"
   ]
  },
  {
   "cell_type": "markdown",
   "id": "ced4990c-f4a0-49b3-82d3-3c5cad9ae3e9",
   "metadata": {},
   "source": [
    "## Author\n",
    "Noah Fein"
   ]
  },
  {
   "cell_type": "code",
   "execution_count": null,
   "id": "1a2f89d1-365d-43db-bb6b-489871c41104",
   "metadata": {},
   "outputs": [],
   "source": []
  },
  {
   "cell_type": "code",
   "execution_count": null,
   "id": "19b08b1e-9287-4f10-9066-382d53d7238c",
   "metadata": {},
   "outputs": [],
   "source": []
  }
 ],
 "metadata": {
  "kernelspec": {
   "display_name": "Python",
   "language": "python",
   "name": "conda-env-python-py"
  },
  "language_info": {
   "codemirror_mode": {
    "name": "ipython",
    "version": 3
   },
   "file_extension": ".py",
   "mimetype": "text/x-python",
   "name": "python",
   "nbconvert_exporter": "python",
   "pygments_lexer": "ipython3",
   "version": "3.7.12"
  }
 },
 "nbformat": 4,
 "nbformat_minor": 5
}
